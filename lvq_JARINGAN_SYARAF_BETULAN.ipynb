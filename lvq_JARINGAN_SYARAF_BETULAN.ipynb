{
  "cells": [
    {
      "cell_type": "code",
      "execution_count": null,
      "metadata": {
        "id": "xg7hYSZaqvpy"
      },
      "outputs": [],
      "source": [
        "import time\n",
        "import numpy as np\n",
        "import pandas as pd\n",
        "\n",
        "import warnings\n",
        "warnings.filterwarnings('ignore')"
      ]
    },
    {
      "cell_type": "code",
      "execution_count": null,
      "metadata": {
        "id": "uTXrPlI0qvp3"
      },
      "outputs": [],
      "source": [
        "def lvq_fit(train, target, lrate, b, max_epoch):\n",
        "  label, train_idx = np.unique(target, return_index=True)\n",
        "  weight = train[train_idx].astype(np.float64)\n",
        "  train = np.array([e for i, e in enumerate(zip(train, target)) if i not in train_idx])\n",
        "  train, target = train[:, 0], train[:, 1]\n",
        "  epoch = 0\n",
        "\n",
        "\n",
        "  while epoch < max_epoch:\n",
        "    for i, x in enumerate(train):\n",
        "      distance = [sum((w - x) ** 2) for w in weight]\n",
        "      min = np.argmin(distance)\n",
        "      sign = 1 if target[i] == label[min] else -1\n",
        "      weight[min] += sign * lrate * (x - weight[min])\n",
        "\n",
        "    lrate *= b\n",
        "    epoch += 1\n",
        "\n",
        "  return (weight, label)\n",
        "\n",
        "def lvq_fit_with_es(train, target, lrate, b, max_epoch, validation_data=None, patience=10):\n",
        "    label, train_idx = np.unique(target, return_index=True)\n",
        "    weight = train[train_idx].astype(np.float64)\n",
        "    train = np.array([e for i, e in enumerate(zip(train, target)) if i not in train_idx])\n",
        "    train, target = train[:, 0], train[:, 1]\n",
        "\n",
        "\n",
        "    if validation_data:\n",
        "        val_X, val_y = validation_data\n",
        "        best_val_accuracy = 0\n",
        "        epochs_without_improvement = 0\n",
        "\n",
        "    epoch = 0\n",
        "    while epoch < max_epoch:\n",
        "        for i, x in enumerate(train):\n",
        "            distance = [np.sum((w - x) ** 2) for w in weight]\n",
        "            min_index = np.argmin(distance)\n",
        "            sign = 1 if target[i] == label[min_index] else -1\n",
        "            weight[min_index] += sign * lrate * (x - weight[min_index])\n",
        "\n",
        "        lrate *= b\n",
        "        epoch += 1\n",
        "\n",
        "\n",
        "        if validation_data:\n",
        "            val_predictions = lvq_predict(val_X, (weight, label))\n",
        "            val_accuracy = np.mean(val_predictions == val_y)\n",
        "\n",
        "            if val_accuracy > best_val_accuracy:\n",
        "                best_val_accuracy = val_accuracy\n",
        "                epochs_without_improvement = 0\n",
        "            else:\n",
        "                epochs_without_improvement += 1\n",
        "\n",
        "            if epochs_without_improvement >= patience:\n",
        "                print(f\"Early stopping after {epoch} epochs without improvement.\")\n",
        "                break\n",
        "\n",
        "    return (weight, label)\n",
        "\n",
        "\n",
        "def lvq_predict(X, model):\n",
        "  center, label = model\n",
        "  Y = []\n",
        "  for x in X:\n",
        "    d = [sum((c - x) ** 2) for c in center]\n",
        "    Y.append(label[np.argmin(d)])\n",
        "  return Y\n",
        "\n",
        "def train_test_split(X, y, test_size=.1, random_state=32):\n",
        "    np.random.seed(random_state)\n",
        "    idx = np.random.permutation(len(X))\n",
        "    n_test = int(len(X) * test_size)\n",
        "    idx_test = idx[:n_test]\n",
        "    idx_train = idx[n_test:]\n",
        "    X_train = X[idx_train]\n",
        "    X_test = X[idx_test]\n",
        "    y_train = y[idx_train]\n",
        "    y_test = y[idx_test]\n",
        "\n",
        "    return X_train, X_test, y_train, y_test\n",
        "\n",
        "def akurasi(y_true, y_pred):\n",
        "    return sum(y_true == y_pred) / len(y_true)\n",
        "\n",
        "def pp_biner(df, kolom):\n",
        "    kamus = {\n",
        "        value: idx for idx, value in enumerate(df[kolom].unique())\n",
        "    }\n",
        "\n",
        "    df[kolom] = df[kolom].map(kamus)\n",
        "    return df[kolom]\n",
        "\n",
        "def pp_kategorikal(df, kolom):\n",
        "    df = pd.get_dummies(df, columns=[kolom], prefix_sep='-', dtype=int)\n",
        "    return df\n",
        "\n",
        "def z_score(df, kolom):\n",
        "    df[kolom] = (df[kolom] - df[kolom].mean()) / df[kolom].std()\n",
        "    return df[kolom]\n"
      ]
    },
    {
      "cell_type": "code",
      "execution_count": null,
      "metadata": {
        "id": "cc3H-Kl1qvp5",
        "outputId": "3593a6ae-511a-4d5a-a5ac-57eda9e71f70"
      },
      "outputs": [
        {
          "data": {
            "text/html": [
              "<div>\n",
              "<style scoped>\n",
              "    .dataframe tbody tr th:only-of-type {\n",
              "        vertical-align: middle;\n",
              "    }\n",
              "\n",
              "    .dataframe tbody tr th {\n",
              "        vertical-align: top;\n",
              "    }\n",
              "\n",
              "    .dataframe thead th {\n",
              "        text-align: right;\n",
              "    }\n",
              "</style>\n",
              "<table border=\"1\" class=\"dataframe\">\n",
              "  <thead>\n",
              "    <tr style=\"text-align: right;\">\n",
              "      <th></th>\n",
              "      <th>Age</th>\n",
              "      <th>Sex</th>\n",
              "      <th>ChestPainType</th>\n",
              "      <th>RestingBP</th>\n",
              "      <th>Cholesterol</th>\n",
              "      <th>FastingBS</th>\n",
              "      <th>RestingECG</th>\n",
              "      <th>MaxHR</th>\n",
              "      <th>ExerciseAngina</th>\n",
              "      <th>Oldpeak</th>\n",
              "      <th>ST_Slope</th>\n",
              "      <th>HeartDisease</th>\n",
              "    </tr>\n",
              "  </thead>\n",
              "  <tbody>\n",
              "    <tr>\n",
              "      <th>0</th>\n",
              "      <td>40</td>\n",
              "      <td>M</td>\n",
              "      <td>ATA</td>\n",
              "      <td>140</td>\n",
              "      <td>289</td>\n",
              "      <td>0</td>\n",
              "      <td>Normal</td>\n",
              "      <td>172</td>\n",
              "      <td>N</td>\n",
              "      <td>0.0</td>\n",
              "      <td>Up</td>\n",
              "      <td>0</td>\n",
              "    </tr>\n",
              "    <tr>\n",
              "      <th>1</th>\n",
              "      <td>49</td>\n",
              "      <td>F</td>\n",
              "      <td>NAP</td>\n",
              "      <td>160</td>\n",
              "      <td>180</td>\n",
              "      <td>0</td>\n",
              "      <td>Normal</td>\n",
              "      <td>156</td>\n",
              "      <td>N</td>\n",
              "      <td>1.0</td>\n",
              "      <td>Flat</td>\n",
              "      <td>1</td>\n",
              "    </tr>\n",
              "    <tr>\n",
              "      <th>2</th>\n",
              "      <td>37</td>\n",
              "      <td>M</td>\n",
              "      <td>ATA</td>\n",
              "      <td>130</td>\n",
              "      <td>283</td>\n",
              "      <td>0</td>\n",
              "      <td>ST</td>\n",
              "      <td>98</td>\n",
              "      <td>N</td>\n",
              "      <td>0.0</td>\n",
              "      <td>Up</td>\n",
              "      <td>0</td>\n",
              "    </tr>\n",
              "    <tr>\n",
              "      <th>3</th>\n",
              "      <td>48</td>\n",
              "      <td>F</td>\n",
              "      <td>ASY</td>\n",
              "      <td>138</td>\n",
              "      <td>214</td>\n",
              "      <td>0</td>\n",
              "      <td>Normal</td>\n",
              "      <td>108</td>\n",
              "      <td>Y</td>\n",
              "      <td>1.5</td>\n",
              "      <td>Flat</td>\n",
              "      <td>1</td>\n",
              "    </tr>\n",
              "    <tr>\n",
              "      <th>4</th>\n",
              "      <td>54</td>\n",
              "      <td>M</td>\n",
              "      <td>NAP</td>\n",
              "      <td>150</td>\n",
              "      <td>195</td>\n",
              "      <td>0</td>\n",
              "      <td>Normal</td>\n",
              "      <td>122</td>\n",
              "      <td>N</td>\n",
              "      <td>0.0</td>\n",
              "      <td>Up</td>\n",
              "      <td>0</td>\n",
              "    </tr>\n",
              "  </tbody>\n",
              "</table>\n",
              "</div>"
            ],
            "text/plain": [
              "   Age Sex ChestPainType  RestingBP  Cholesterol  FastingBS RestingECG  MaxHR  \\\n",
              "0   40   M           ATA        140          289          0     Normal    172   \n",
              "1   49   F           NAP        160          180          0     Normal    156   \n",
              "2   37   M           ATA        130          283          0         ST     98   \n",
              "3   48   F           ASY        138          214          0     Normal    108   \n",
              "4   54   M           NAP        150          195          0     Normal    122   \n",
              "\n",
              "  ExerciseAngina  Oldpeak ST_Slope  HeartDisease  \n",
              "0              N      0.0       Up             0  \n",
              "1              N      1.0     Flat             1  \n",
              "2              N      0.0       Up             0  \n",
              "3              Y      1.5     Flat             1  \n",
              "4              N      0.0       Up             0  "
            ]
          },
          "execution_count": 4,
          "metadata": {},
          "output_type": "execute_result"
        }
      ],
      "source": [
        "data = pd.read_csv('heart_2.csv')\n",
        "data.head()"
      ]
    },
    {
      "cell_type": "code",
      "execution_count": null,
      "metadata": {
        "id": "4zr8Z10Tqvp6",
        "outputId": "7ab129b5-91d2-4b80-e7c0-6cb094ae4fb0"
      },
      "outputs": [
        {
          "data": {
            "text/plain": [
              "HeartDisease\n",
              "0    400\n",
              "1    400\n",
              "Name: count, dtype: int64"
            ]
          },
          "execution_count": 5,
          "metadata": {},
          "output_type": "execute_result"
        }
      ],
      "source": [
        "# cut data heart disease into 400 sample for each classes (1 and 0)\n",
        "data = data.groupby('HeartDisease').apply(lambda x: x.sample(n=400, random_state=2)).reset_index(drop=True)\n",
        "data[\"HeartDisease\"].value_counts()"
      ]
    },
    {
      "cell_type": "code",
      "execution_count": null,
      "metadata": {
        "id": "4xyZJToLqvp7"
      },
      "outputs": [],
      "source": [
        "kolom_obj = data.select_dtypes(include=['object']).columns.tolist()\n",
        "kolom_numerik = [kolom for kolom in data.columns if kolom not in kolom_obj]\n",
        "kolom_biner = [kolom for kolom in kolom_obj if len(data[kolom].unique()) == 2]\n",
        "kolom_kategorikal = [kolom for kolom in kolom_obj if len(data[kolom].unique()) > 2]\n",
        "kolom_numerik.remove('HeartDisease')"
      ]
    },
    {
      "cell_type": "code",
      "execution_count": null,
      "metadata": {
        "id": "G_oUgTxOqvp7",
        "outputId": "5dab5d7f-51bd-4b62-b77b-28d1cc4db0b5"
      },
      "outputs": [
        {
          "data": {
            "text/html": [
              "<div>\n",
              "<style scoped>\n",
              "    .dataframe tbody tr th:only-of-type {\n",
              "        vertical-align: middle;\n",
              "    }\n",
              "\n",
              "    .dataframe tbody tr th {\n",
              "        vertical-align: top;\n",
              "    }\n",
              "\n",
              "    .dataframe thead th {\n",
              "        text-align: right;\n",
              "    }\n",
              "</style>\n",
              "<table border=\"1\" class=\"dataframe\">\n",
              "  <thead>\n",
              "    <tr style=\"text-align: right;\">\n",
              "      <th></th>\n",
              "      <th>Age</th>\n",
              "      <th>Sex</th>\n",
              "      <th>ChestPainType</th>\n",
              "      <th>RestingBP</th>\n",
              "      <th>Cholesterol</th>\n",
              "      <th>FastingBS</th>\n",
              "      <th>RestingECG</th>\n",
              "      <th>MaxHR</th>\n",
              "      <th>ExerciseAngina</th>\n",
              "      <th>Oldpeak</th>\n",
              "      <th>ST_Slope</th>\n",
              "      <th>HeartDisease</th>\n",
              "    </tr>\n",
              "  </thead>\n",
              "  <tbody>\n",
              "    <tr>\n",
              "      <th>0</th>\n",
              "      <td>45</td>\n",
              "      <td>0</td>\n",
              "      <td>ASY</td>\n",
              "      <td>115</td>\n",
              "      <td>260</td>\n",
              "      <td>0</td>\n",
              "      <td>LVH</td>\n",
              "      <td>185</td>\n",
              "      <td>0</td>\n",
              "      <td>0.0</td>\n",
              "      <td>Up</td>\n",
              "      <td>0</td>\n",
              "    </tr>\n",
              "    <tr>\n",
              "      <th>1</th>\n",
              "      <td>41</td>\n",
              "      <td>0</td>\n",
              "      <td>ATA</td>\n",
              "      <td>120</td>\n",
              "      <td>157</td>\n",
              "      <td>0</td>\n",
              "      <td>Normal</td>\n",
              "      <td>182</td>\n",
              "      <td>0</td>\n",
              "      <td>0.0</td>\n",
              "      <td>Up</td>\n",
              "      <td>0</td>\n",
              "    </tr>\n",
              "    <tr>\n",
              "      <th>2</th>\n",
              "      <td>36</td>\n",
              "      <td>0</td>\n",
              "      <td>NAP</td>\n",
              "      <td>150</td>\n",
              "      <td>160</td>\n",
              "      <td>0</td>\n",
              "      <td>Normal</td>\n",
              "      <td>172</td>\n",
              "      <td>0</td>\n",
              "      <td>0.0</td>\n",
              "      <td>Up</td>\n",
              "      <td>0</td>\n",
              "    </tr>\n",
              "    <tr>\n",
              "      <th>3</th>\n",
              "      <td>55</td>\n",
              "      <td>0</td>\n",
              "      <td>NAP</td>\n",
              "      <td>133</td>\n",
              "      <td>185</td>\n",
              "      <td>0</td>\n",
              "      <td>ST</td>\n",
              "      <td>136</td>\n",
              "      <td>0</td>\n",
              "      <td>0.2</td>\n",
              "      <td>Up</td>\n",
              "      <td>0</td>\n",
              "    </tr>\n",
              "    <tr>\n",
              "      <th>4</th>\n",
              "      <td>53</td>\n",
              "      <td>0</td>\n",
              "      <td>ASY</td>\n",
              "      <td>130</td>\n",
              "      <td>182</td>\n",
              "      <td>0</td>\n",
              "      <td>Normal</td>\n",
              "      <td>148</td>\n",
              "      <td>0</td>\n",
              "      <td>0.0</td>\n",
              "      <td>Up</td>\n",
              "      <td>0</td>\n",
              "    </tr>\n",
              "  </tbody>\n",
              "</table>\n",
              "</div>"
            ],
            "text/plain": [
              "   Age  Sex ChestPainType  RestingBP  Cholesterol  FastingBS RestingECG  \\\n",
              "0   45    0           ASY        115          260          0        LVH   \n",
              "1   41    0           ATA        120          157          0     Normal   \n",
              "2   36    0           NAP        150          160          0     Normal   \n",
              "3   55    0           NAP        133          185          0         ST   \n",
              "4   53    0           ASY        130          182          0     Normal   \n",
              "\n",
              "   MaxHR  ExerciseAngina  Oldpeak ST_Slope  HeartDisease  \n",
              "0    185               0      0.0       Up             0  \n",
              "1    182               0      0.0       Up             0  \n",
              "2    172               0      0.0       Up             0  \n",
              "3    136               0      0.2       Up             0  \n",
              "4    148               0      0.0       Up             0  "
            ]
          },
          "execution_count": 7,
          "metadata": {},
          "output_type": "execute_result"
        }
      ],
      "source": [
        "# preprocessing data biner\n",
        "for kolom in kolom_biner:\n",
        "    data[kolom] = pp_biner(data, kolom)\n",
        "\n",
        "data.head()"
      ]
    },
    {
      "cell_type": "code",
      "execution_count": null,
      "metadata": {
        "id": "HcWCiToQqvp8",
        "outputId": "9c22f95a-4b65-461e-9a4f-a15ae86d6b60"
      },
      "outputs": [
        {
          "name": "stdout",
          "output_type": "stream",
          "text": [
            "<class 'pandas.core.frame.DataFrame'>\n",
            "RangeIndex: 800 entries, 0 to 799\n",
            "Data columns (total 19 columns):\n",
            " #   Column             Non-Null Count  Dtype  \n",
            "---  ------             --------------  -----  \n",
            " 0   Age                800 non-null    int64  \n",
            " 1   Sex                800 non-null    int64  \n",
            " 2   RestingBP          800 non-null    int64  \n",
            " 3   Cholesterol        800 non-null    int64  \n",
            " 4   FastingBS          800 non-null    int64  \n",
            " 5   MaxHR              800 non-null    int64  \n",
            " 6   ExerciseAngina     800 non-null    int64  \n",
            " 7   Oldpeak            800 non-null    float64\n",
            " 8   HeartDisease       800 non-null    int64  \n",
            " 9   ChestPainType-ASY  800 non-null    int32  \n",
            " 10  ChestPainType-ATA  800 non-null    int32  \n",
            " 11  ChestPainType-NAP  800 non-null    int32  \n",
            " 12  ChestPainType-TA   800 non-null    int32  \n",
            " 13  RestingECG-LVH     800 non-null    int32  \n",
            " 14  RestingECG-Normal  800 non-null    int32  \n",
            " 15  RestingECG-ST      800 non-null    int32  \n",
            " 16  ST_Slope-Down      800 non-null    int32  \n",
            " 17  ST_Slope-Flat      800 non-null    int32  \n",
            " 18  ST_Slope-Up        800 non-null    int32  \n",
            "dtypes: float64(1), int32(10), int64(8)\n",
            "memory usage: 87.6 KB\n"
          ]
        }
      ],
      "source": [
        "# one hot encoding data kategorikal\n",
        "for kolom in kolom_kategorikal:\n",
        "    data = pp_kategorikal(data, kolom)\n",
        "\n",
        "data.info()"
      ]
    },
    {
      "cell_type": "code",
      "execution_count": null,
      "metadata": {
        "id": "AraxzTWtqvp9",
        "outputId": "a3d00c90-e3e9-4cba-fa12-4a6200289235"
      },
      "outputs": [
        {
          "data": {
            "text/html": [
              "<div>\n",
              "<style scoped>\n",
              "    .dataframe tbody tr th:only-of-type {\n",
              "        vertical-align: middle;\n",
              "    }\n",
              "\n",
              "    .dataframe tbody tr th {\n",
              "        vertical-align: top;\n",
              "    }\n",
              "\n",
              "    .dataframe thead th {\n",
              "        text-align: right;\n",
              "    }\n",
              "</style>\n",
              "<table border=\"1\" class=\"dataframe\">\n",
              "  <thead>\n",
              "    <tr style=\"text-align: right;\">\n",
              "      <th></th>\n",
              "      <th>count</th>\n",
              "      <th>mean</th>\n",
              "      <th>std</th>\n",
              "      <th>min</th>\n",
              "      <th>25%</th>\n",
              "      <th>50%</th>\n",
              "      <th>75%</th>\n",
              "      <th>max</th>\n",
              "    </tr>\n",
              "  </thead>\n",
              "  <tbody>\n",
              "    <tr>\n",
              "      <th>Age</th>\n",
              "      <td>800.0</td>\n",
              "      <td>-1.065814e-16</td>\n",
              "      <td>1.0</td>\n",
              "      <td>-2.661903</td>\n",
              "      <td>-0.757142</td>\n",
              "      <td>0.089418</td>\n",
              "      <td>0.724338</td>\n",
              "      <td>2.523279</td>\n",
              "    </tr>\n",
              "    <tr>\n",
              "      <th>RestingBP</th>\n",
              "      <td>800.0</td>\n",
              "      <td>3.819167e-16</td>\n",
              "      <td>1.0</td>\n",
              "      <td>-7.086805</td>\n",
              "      <td>-0.643096</td>\n",
              "      <td>-0.106120</td>\n",
              "      <td>0.430856</td>\n",
              "      <td>3.652711</td>\n",
              "    </tr>\n",
              "    <tr>\n",
              "      <th>Cholesterol</th>\n",
              "      <td>800.0</td>\n",
              "      <td>-1.065814e-16</td>\n",
              "      <td>1.0</td>\n",
              "      <td>-1.865697</td>\n",
              "      <td>-0.226203</td>\n",
              "      <td>0.209434</td>\n",
              "      <td>0.626334</td>\n",
              "      <td>3.418158</td>\n",
              "    </tr>\n",
              "    <tr>\n",
              "      <th>FastingBS</th>\n",
              "      <td>800.0</td>\n",
              "      <td>-1.065814e-16</td>\n",
              "      <td>1.0</td>\n",
              "      <td>-0.536549</td>\n",
              "      <td>-0.536549</td>\n",
              "      <td>-0.536549</td>\n",
              "      <td>-0.536549</td>\n",
              "      <td>1.861434</td>\n",
              "    </tr>\n",
              "    <tr>\n",
              "      <th>MaxHR</th>\n",
              "      <td>800.0</td>\n",
              "      <td>-4.618528e-16</td>\n",
              "      <td>1.0</td>\n",
              "      <td>-3.005226</td>\n",
              "      <td>-0.734124</td>\n",
              "      <td>0.062754</td>\n",
              "      <td>0.779944</td>\n",
              "      <td>2.533076</td>\n",
              "    </tr>\n",
              "    <tr>\n",
              "      <th>Oldpeak</th>\n",
              "      <td>800.0</td>\n",
              "      <td>0.000000e+00</td>\n",
              "      <td>1.0</td>\n",
              "      <td>-3.267614</td>\n",
              "      <td>-0.813777</td>\n",
              "      <td>-0.341886</td>\n",
              "      <td>0.601898</td>\n",
              "      <td>5.037680</td>\n",
              "    </tr>\n",
              "  </tbody>\n",
              "</table>\n",
              "</div>"
            ],
            "text/plain": [
              "             count          mean  std       min       25%       50%       75%  \\\n",
              "Age          800.0 -1.065814e-16  1.0 -2.661903 -0.757142  0.089418  0.724338   \n",
              "RestingBP    800.0  3.819167e-16  1.0 -7.086805 -0.643096 -0.106120  0.430856   \n",
              "Cholesterol  800.0 -1.065814e-16  1.0 -1.865697 -0.226203  0.209434  0.626334   \n",
              "FastingBS    800.0 -1.065814e-16  1.0 -0.536549 -0.536549 -0.536549 -0.536549   \n",
              "MaxHR        800.0 -4.618528e-16  1.0 -3.005226 -0.734124  0.062754  0.779944   \n",
              "Oldpeak      800.0  0.000000e+00  1.0 -3.267614 -0.813777 -0.341886  0.601898   \n",
              "\n",
              "                  max  \n",
              "Age          2.523279  \n",
              "RestingBP    3.652711  \n",
              "Cholesterol  3.418158  \n",
              "FastingBS    1.861434  \n",
              "MaxHR        2.533076  \n",
              "Oldpeak      5.037680  "
            ]
          },
          "execution_count": 9,
          "metadata": {},
          "output_type": "execute_result"
        }
      ],
      "source": [
        "for kolom in kolom_numerik:\n",
        "    data[kolom] = z_score(data, kolom)\n",
        "\n",
        "data[kolom_numerik].describe().T"
      ]
    },
    {
      "cell_type": "code",
      "execution_count": null,
      "metadata": {
        "id": "NX3wJFmwqvp-"
      },
      "outputs": [],
      "source": [
        "from sklearn.metrics import classification_report\n",
        "\n",
        "X = data.drop(columns=['HeartDisease']).values\n",
        "y = data['HeartDisease'].values\n",
        "X_train, X_test, y_train, y_test = train_test_split(X, y, test_size=0.1)\n",
        "X_val, X_test, y_val, y_test = train_test_split(X_test, y_test, test_size=.9) # tanpa ini 0.875"
      ]
    },
    {
      "cell_type": "code",
      "execution_count": null,
      "metadata": {
        "id": "xJdEUm4Fqvp-",
        "outputId": "a5ce805e-fefb-4ff7-ea2f-4772a8420e25"
      },
      "outputs": [
        {
          "name": "stdout",
          "output_type": "stream",
          "text": [
            "0.8611111111111112\n",
            "              precision    recall  f1-score   support\n",
            "\n",
            "           0       0.84      0.93      0.88        41\n",
            "           1       0.89      0.77      0.83        31\n",
            "\n",
            "    accuracy                           0.86        72\n",
            "   macro avg       0.87      0.85      0.86        72\n",
            "weighted avg       0.86      0.86      0.86        72\n",
            "\n",
            "Time: 10.097026348114014 seconds\n"
          ]
        }
      ],
      "source": [
        "start = time.time()\n",
        "model  = lvq_fit(X_train,y_train, lrate=0.05, b=0.4, max_epoch=1000)\n",
        "output = lvq_predict(X_test, model)\n",
        "acc = akurasi(y_test, output)\n",
        "end_1 = time.time() - start\n",
        "print(acc)\n",
        "print(classification_report(y_test, output))\n",
        "print(f\"Time: {end_1} seconds\")"
      ]
    },
    {
      "cell_type": "code",
      "execution_count": null,
      "metadata": {
        "id": "rIpLAPRHqvp_",
        "outputId": "8beb966f-9739-42e8-a501-a373b2006732"
      },
      "outputs": [
        {
          "name": "stdout",
          "output_type": "stream",
          "text": [
            "Early stopping after 11 epochs without improvement.\n",
            "0.8611111111111112\n",
            "              precision    recall  f1-score   support\n",
            "\n",
            "           0       0.84      0.93      0.88        41\n",
            "           1       0.89      0.77      0.83        31\n",
            "\n",
            "    accuracy                           0.86        72\n",
            "   macro avg       0.87      0.85      0.86        72\n",
            "weighted avg       0.86      0.86      0.86        72\n",
            "\n",
            "Time: 0.17602825164794922 seconds\n"
          ]
        }
      ],
      "source": [
        "start = time.time()\n",
        "model = lvq_fit_with_es(X_train,y_train, lrate=.05, b=0.4, max_epoch=1000, validation_data=(X_val, y_val), patience=10)\n",
        "output = lvq_predict(X_test, model)\n",
        "acc = akurasi(y_test, output)\n",
        "end_2 = time.time() - start\n",
        "print(acc)\n",
        "print(classification_report(y_test, output))\n",
        "print(f\"Time: {end_2} seconds\")"
      ]
    },
    {
      "cell_type": "code",
      "execution_count": null,
      "metadata": {
        "id": "93O5d6Yqqvp_",
        "outputId": "4d333403-e697-4066-c890-b89e18e0db7f"
      },
      "outputs": [
        {
          "data": {
            "image/png": "[encoded data removed]",
            "text/plain": [
              "<Figure size 640x480 with 1 Axes>"
            ]
          },
          "metadata": {},
          "output_type": "display_data"
        }
      ],
      "source": [
        "from sklearn.metrics import confusion_matrix\n",
        "import matplotlib.pyplot as plt\n",
        "import seaborn as sns\n",
        "\n",
        "cm = confusion_matrix(y_test, output)\n",
        "cm = cm.astype('float') / cm.sum(axis=1)[:, np.newaxis]\n",
        "heatmap = sns.heatmap(cm, annot=True, cmap='Blues', cbar=False)\n",
        "heatmap.set_xlabel('Label Terprediksi')\n",
        "heatmap.set_ylabel('Label Sebenarnya')\n",
        "plt.show()"
      ]
    },
    {
      "cell_type": "code",
      "execution_count": null,
      "metadata": {
        "id": "Yi54B6qIqvp_",
        "outputId": "86d2817b-a46a-427f-cfe5-f1372182a6bc"
      },
      "outputs": [
        {
          "data": {
            "image/png": "[encoded data removed]",
            "text/plain": [
              "<Figure size 1000x500 with 1 Axes>"
            ]
          },
          "metadata": {},
          "output_type": "display_data"
        }
      ],
      "source": [
        "percent_improvement = (end_1 - end_2) / end_1 * 100\n",
        "\n",
        "plt.figure(figsize=(10, 5))\n",
        "plt.bar(['LVQ', 'LVQ with Early Stopping'], [end_1, end_2])\n",
        "plt.plot([0., 1.], [end_1, end_2], 'r--')  # Add line plot\n",
        "plt.ylabel('Time (seconds)')\n",
        "plt.title('Time Comparison')\n",
        "plt.text(-0.1, end_1 + 0.1, f\"{end_1:.2f} seconds\")\n",
        "plt.text(0.9, end_2 + 0.1, f\"{end_2:.2f} seconds\")\n",
        "plt.text(0.6, end_2 + 4.5, f\"{percent_improvement:.2f}% improvement\")\n",
        "plt.show()"
      ]
    },
    {
      "cell_type": "code",
      "execution_count": null,
      "metadata": {
        "id": "m8PXgAB8qvqA",
        "outputId": "a9453fd3-d0ba-4894-f430-4f2c5df2e79c"
      },
      "outputs": [
        {
          "name": "stdout",
          "output_type": "stream",
          "text": [
            "              precision    recall  f1-score   support\n",
            "\n",
            "           0       0.84      0.93      0.88        41\n",
            "           1       0.89      0.77      0.83        31\n",
            "\n",
            "    accuracy                           0.86        72\n",
            "   macro avg       0.87      0.85      0.86        72\n",
            "weighted avg       0.86      0.86      0.86        72\n",
            "\n"
          ]
        }
      ],
      "source": [
        "from sklearn.metrics import classification_report\n",
        "\n",
        "print(classification_report(y_test, output))"
      ]
    },
    {
      "cell_type": "markdown",
      "metadata": {
        "id": "uyeexvzPqvqA"
      },
      "source": [
        "0.2 -> 21\n",
        "0.1 -> 32"
      ]
    }
  ],
  "metadata": {
    "kernelspec": {
      "display_name": "Python 3",
      "language": "python",
      "name": "python3"
    },
    "language_info": {
      "codemirror_mode": {
        "name": "ipython",
        "version": 3
      },
      "file_extension": ".py",
      "mimetype": "text/x-python",
      "name": "python",
      "nbconvert_exporter": "python",
      "pygments_lexer": "ipython3",
      "version": "3.10.6"
    },
    "colab": {
      "provenance": []
    }
  },
  "nbformat": 4,
  "nbformat_minor": 0
}